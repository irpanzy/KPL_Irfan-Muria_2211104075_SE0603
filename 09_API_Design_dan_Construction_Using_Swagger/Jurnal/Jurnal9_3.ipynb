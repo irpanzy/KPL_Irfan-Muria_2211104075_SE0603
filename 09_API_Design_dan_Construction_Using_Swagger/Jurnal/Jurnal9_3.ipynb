{
  "nbformat": 4,
  "nbformat_minor": 0,
  "metadata": {
    "colab": {
      "provenance": []
    },
    "kernelspec": {
      "name": "python3",
      "display_name": "Python 3"
    },
    "language_info": {
      "name": "python"
    }
  },
  "cells": [
    {
      "cell_type": "code",
      "execution_count": 1,
      "metadata": {
        "colab": {
          "base_uri": "https://localhost:8080/"
        },
        "id": "Ouv_l02yddJo",
        "outputId": "7d0dc459-893c-44f3-d1e2-310938504995"
      },
      "outputs": [
        {
          "output_type": "stream",
          "name": "stdout",
          "text": [
            "Collecting fastapi\n",
            "  Downloading fastapi-0.115.12-py3-none-any.whl.metadata (27 kB)\n",
            "Collecting uvicorn\n",
            "  Downloading uvicorn-0.34.2-py3-none-any.whl.metadata (6.5 kB)\n",
            "Requirement already satisfied: nest-asyncio in /usr/local/lib/python3.11/dist-packages (1.6.0)\n",
            "Collecting pyngrok\n",
            "  Downloading pyngrok-7.2.7-py3-none-any.whl.metadata (9.4 kB)\n",
            "Collecting starlette<0.47.0,>=0.40.0 (from fastapi)\n",
            "  Downloading starlette-0.46.2-py3-none-any.whl.metadata (6.2 kB)\n",
            "Requirement already satisfied: pydantic!=1.8,!=1.8.1,!=2.0.0,!=2.0.1,!=2.1.0,<3.0.0,>=1.7.4 in /usr/local/lib/python3.11/dist-packages (from fastapi) (2.11.4)\n",
            "Requirement already satisfied: typing-extensions>=4.8.0 in /usr/local/lib/python3.11/dist-packages (from fastapi) (4.13.2)\n",
            "Requirement already satisfied: click>=7.0 in /usr/local/lib/python3.11/dist-packages (from uvicorn) (8.1.8)\n",
            "Requirement already satisfied: h11>=0.8 in /usr/local/lib/python3.11/dist-packages (from uvicorn) (0.16.0)\n",
            "Requirement already satisfied: PyYAML>=5.1 in /usr/local/lib/python3.11/dist-packages (from pyngrok) (6.0.2)\n",
            "Requirement already satisfied: annotated-types>=0.6.0 in /usr/local/lib/python3.11/dist-packages (from pydantic!=1.8,!=1.8.1,!=2.0.0,!=2.0.1,!=2.1.0,<3.0.0,>=1.7.4->fastapi) (0.7.0)\n",
            "Requirement already satisfied: pydantic-core==2.33.2 in /usr/local/lib/python3.11/dist-packages (from pydantic!=1.8,!=1.8.1,!=2.0.0,!=2.0.1,!=2.1.0,<3.0.0,>=1.7.4->fastapi) (2.33.2)\n",
            "Requirement already satisfied: typing-inspection>=0.4.0 in /usr/local/lib/python3.11/dist-packages (from pydantic!=1.8,!=1.8.1,!=2.0.0,!=2.0.1,!=2.1.0,<3.0.0,>=1.7.4->fastapi) (0.4.0)\n",
            "Requirement already satisfied: anyio<5,>=3.6.2 in /usr/local/lib/python3.11/dist-packages (from starlette<0.47.0,>=0.40.0->fastapi) (4.9.0)\n",
            "Requirement already satisfied: idna>=2.8 in /usr/local/lib/python3.11/dist-packages (from anyio<5,>=3.6.2->starlette<0.47.0,>=0.40.0->fastapi) (3.10)\n",
            "Requirement already satisfied: sniffio>=1.1 in /usr/local/lib/python3.11/dist-packages (from anyio<5,>=3.6.2->starlette<0.47.0,>=0.40.0->fastapi) (1.3.1)\n",
            "Downloading fastapi-0.115.12-py3-none-any.whl (95 kB)\n",
            "\u001b[2K   \u001b[90m━━━━━━━━━━━━━━━━━━━━━━━━━━━━━━━━━━━━━━━━\u001b[0m \u001b[32m95.2/95.2 kB\u001b[0m \u001b[31m4.6 MB/s\u001b[0m eta \u001b[36m0:00:00\u001b[0m\n",
            "\u001b[?25hDownloading uvicorn-0.34.2-py3-none-any.whl (62 kB)\n",
            "\u001b[2K   \u001b[90m━━━━━━━━━━━━━━━━━━━━━━━━━━━━━━━━━━━━━━━━\u001b[0m \u001b[32m62.5/62.5 kB\u001b[0m \u001b[31m2.7 MB/s\u001b[0m eta \u001b[36m0:00:00\u001b[0m\n",
            "\u001b[?25hDownloading pyngrok-7.2.7-py3-none-any.whl (23 kB)\n",
            "Downloading starlette-0.46.2-py3-none-any.whl (72 kB)\n",
            "\u001b[2K   \u001b[90m━━━━━━━━━━━━━━━━━━━━━━━━━━━━━━━━━━━━━━━━\u001b[0m \u001b[32m72.0/72.0 kB\u001b[0m \u001b[31m5.1 MB/s\u001b[0m eta \u001b[36m0:00:00\u001b[0m\n",
            "\u001b[?25hInstalling collected packages: uvicorn, pyngrok, starlette, fastapi\n",
            "Successfully installed fastapi-0.115.12 pyngrok-7.2.7 starlette-0.46.2 uvicorn-0.34.2\n"
          ]
        }
      ],
      "source": [
        "!pip install fastapi uvicorn nest-asyncio pyngrok"
      ]
    },
    {
      "cell_type": "code",
      "source": [
        "from fastapi import FastAPI\n",
        "from pydantic import BaseModel\n",
        "from typing import List\n",
        "import nest_asyncio\n",
        "from pyngrok import ngrok, conf\n",
        "import uvicorn\n",
        "\n",
        "# Inisialisasi FastAPI\n",
        "app = FastAPI()\n",
        "\n",
        "# Konfigurasi ngrok (ganti dengan token kamu jika perlu)\n",
        "conf.get_default().auth_token = \"2wD8EQAgrSKi44uM2vcvMzE5tmt_6ynuyCXxfQDm9iBgoH1ua\"\n",
        "\n",
        "# MODEL\n",
        "class Mahasiswa(BaseModel):\n",
        "    Name: str\n",
        "    Nim: str\n",
        "    Course: List[str]\n",
        "    Year: int\n",
        "\n",
        "# DATA DEFAULT (Anggota kelompok TUBES)\n",
        "mahasiswa_list = [\n",
        "    {\n",
        "        \"Name\": \"Afif Ramadhani\",\n",
        "        \"Nim\": \"2211104066\",\n",
        "        \"Course\": [\"Pemrograman\", \"Kalkulus\", \"Basis Data\"],\n",
        "        \"Year\": 2022\n",
        "    },\n",
        "    {\n",
        "        \"Name\": \"Kholil Abdi Prasetyo\",\n",
        "        \"Nim\": \"2211104071\",\n",
        "        \"Course\": [\"Pemrograman\", \"Matematika Diskrit\", \"Pancasila\"],\n",
        "        \"Year\": 2022\n",
        "    },\n",
        "    {\n",
        "        \"Name\": \"Adhitya Sofwan Al Rasyid\",\n",
        "        \"Nim\": \"2211104089\",\n",
        "        \"Course\": [\"Pemrograman\", \"UI/UX\", \"Bahasa Inggris\"],\n",
        "        \"Year\": 2022\n",
        "    }\n",
        "]\n",
        "\n",
        "# ENDPOINTS\n",
        "@app.get(\"/api/Mahasiswa\")\n",
        "def get_all_mahasiswa():\n",
        "    return mahasiswa_list\n",
        "\n",
        "@app.get(\"/api/Mahasiswa/{id}\")\n",
        "def get_mahasiswa_by_id(id: int):\n",
        "    if 0 <= id < len(mahasiswa_list):\n",
        "        return mahasiswa_list[id]\n",
        "    return {\"error\": \"Mahasiswa tidak ditemukan\"}\n",
        "\n",
        "@app.post(\"/api/Mahasiswa\")\n",
        "def add_mahasiswa(mahasiswa: Mahasiswa):\n",
        "    mahasiswa_list.append(mahasiswa.dict())\n",
        "    return {\"pesan\": \"Mahasiswa berhasil ditambahkan\"}\n",
        "\n",
        "@app.delete(\"/api/Mahasiswa/{id}\")\n",
        "def delete_mahasiswa(id: int):\n",
        "    if 0 <= id < len(mahasiswa_list):\n",
        "        deleted = mahasiswa_list.pop(id)\n",
        "        return {\"pesan\": \"Mahasiswa berhasil dihapus\", \"data\": deleted}\n",
        "    return {\"error\": \"Mahasiswa tidak ditemukan\"}\n",
        "\n",
        "# Jalankan server dengan ngrok\n",
        "nest_asyncio.apply()\n",
        "public_url = ngrok.connect(8000)\n",
        "print(\"🎓 Swagger UI:\", public_url.public_url + \"/docs\")\n",
        "print(\"🎓 API URL:\", public_url.public_url)\n",
        "\n",
        "uvicorn.run(app, port=8000)"
      ],
      "metadata": {
        "colab": {
          "base_uri": "https://localhost:8080/"
        },
        "id": "1iW5nFWshl71",
        "outputId": "974be097-1cb2-40bf-c834-285494ae88a6"
      },
      "execution_count": 2,
      "outputs": [
        {
          "output_type": "stream",
          "name": "stdout",
          "text": [
            "🎓 Swagger UI: https://f9ad-34-169-120-174.ngrok-free.app/docs\n",
            "🎓 API URL: https://f9ad-34-169-120-174.ngrok-free.app\n"
          ]
        },
        {
          "output_type": "stream",
          "name": "stderr",
          "text": [
            "INFO:     Started server process [1058]\n",
            "INFO:     Waiting for application startup.\n",
            "INFO:     Application startup complete.\n",
            "INFO:     Uvicorn running on http://127.0.0.1:8000 (Press CTRL+C to quit)\n"
          ]
        },
        {
          "output_type": "stream",
          "name": "stdout",
          "text": [
            "INFO:     36.73.34.232:0 - \"GET /docs HTTP/1.1\" 200 OK\n",
            "INFO:     36.73.34.232:0 - \"GET /openapi.json HTTP/1.1\" 200 OK\n",
            "INFO:     36.73.34.232:0 - \"GET /api/Mahasiswa HTTP/1.1\" 200 OK\n",
            "INFO:     36.73.34.232:0 - \"POST /api/Mahasiswa HTTP/1.1\" 200 OK\n"
          ]
        },
        {
          "output_type": "stream",
          "name": "stderr",
          "text": [
            "<ipython-input-2-c10ec96c480f>:56: PydanticDeprecatedSince20: The `dict` method is deprecated; use `model_dump` instead. Deprecated in Pydantic V2.0 to be removed in V3.0. See Pydantic V2 Migration Guide at https://errors.pydantic.dev/2.11/migration/\n",
            "  mahasiswa_list.append(mahasiswa.dict())\n"
          ]
        },
        {
          "output_type": "stream",
          "name": "stdout",
          "text": [
            "INFO:     36.73.34.232:0 - \"GET /api/Mahasiswa HTTP/1.1\" 200 OK\n",
            "INFO:     36.73.34.232:0 - \"GET /api/Mahasiswa/3 HTTP/1.1\" 200 OK\n",
            "INFO:     36.73.34.232:0 - \"DELETE /api/Mahasiswa/1 HTTP/1.1\" 200 OK\n"
          ]
        },
        {
          "output_type": "stream",
          "name": "stderr",
          "text": [
            "INFO:     Shutting down\n",
            "INFO:     Waiting for application shutdown.\n",
            "INFO:     Application shutdown complete.\n",
            "INFO:     Finished server process [1058]\n"
          ]
        }
      ]
    }
  ]
}